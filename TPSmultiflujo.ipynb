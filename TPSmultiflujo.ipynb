{
  "nbformat": 4,
  "nbformat_minor": 0,
  "metadata": {
    "colab": {
      "provenance": [],
      "collapsed_sections": [],
      "include_colab_link": true
    },
    "kernelspec": {
      "name": "python3",
      "display_name": "Python 3"
    }
  },
  "cells": [
    {
      "cell_type": "markdown",
      "metadata": {
        "id": "view-in-github",
        "colab_type": "text"
      },
      "source": [
        "<a href=\"https://colab.research.google.com/github/robertostl/Travelling-Salesman-Problem/blob/main/TPSmultiflujo.ipynb\" target=\"_parent\"><img src=\"https://colab.research.google.com/assets/colab-badge.svg\" alt=\"Open In Colab\"/></a>"
      ]
    },
    {
      "cell_type": "code",
      "metadata": {
        "id": "VYFBLNiCthJV"
      },
      "source": [
        "!pip install ortools\n",
        "from ortools.linear_solver import pywraplp\n",
        "solver = pywraplp.Solver('TPSmultiflujo',\n",
        "                           pywraplp.Solver.CBC_MIXED_INTEGER_PROGRAMMING)\n"
      ],
      "execution_count": null,
      "outputs": []
    },
    {
      "cell_type": "code",
      "metadata": {
        "id": "o5MMVNr_tldf"
      },
      "source": [
        "#declaracion (el grafo es asímetrico y  la distancia de una ciudad a ella misma es 0)\n",
        "import random\n",
        "NCIUDADES = 20\n",
        "DIST = [[random.randint(1,101) for i in range(NCIUDADES)] for j in range(NCIUDADES)]\n",
        "for i in range(NCIUDADES):\n",
        "  for j in range(NCIUDADES):\n",
        "    if i==j:\n",
        "      DIST[i][j]=0     "
      ],
      "execution_count": null,
      "outputs": []
    },
    {
      "cell_type": "code",
      "metadata": {
        "id": "chUZLxwwtls3",
        "outputId": "3244990d-8636-40b9-fe6e-38c289e74110",
        "colab": {
          "base_uri": "https://localhost:8080/",
          "height": 408
        }
      },
      "source": [
        "#modelo\n",
        "  print('TPS para %d ciudades:' %NCIUDADES)\n",
        "  assig = {}\n",
        "  for i in range(NCIUDADES):\n",
        "    for j in range(NCIUDADES):  \n",
        "      assig[i,j] = solver.BoolVar('assig[%i,%i]' % (i,j))\n",
        "  F = {}\n",
        "  for i in range(NCIUDADES):\n",
        "    for j in range(NCIUDADES):\n",
        "      for k in range(NCIUDADES):\n",
        "        F[i,j,k] = solver.BoolVar('F[%i,%i,%i]'%(i,j,k))#solver.IntVar(0.0, solver.infinity(), 'F[%i,%i,%i]' % (i,j,k))\n",
        "  \n",
        "  \n",
        "\n",
        "\n",
        "  solver.Minimize(solver.Sum([DIST[i][j]*assig[i,j] for i in range(NCIUDADES) for j in range(NCIUDADES)]))\n",
        "    \n",
        "  for i in range(NCIUDADES):\n",
        "    solver.Add(solver.Sum(assig[i,j] for j in range(NCIUDADES) if i!=j)== 1) \n",
        "  for i in range(NCIUDADES):\n",
        "    solver.Add(solver.Sum(assig[j,i] for j in range(NCIUDADES) if i!=j)== 1) \n",
        "    \n",
        "    \n",
        " \n",
        "\n",
        "\n",
        "\n",
        "  \n",
        "  \n",
        "  for k in range(1,NCIUDADES):\n",
        "    solver.Add(solver.Sum(F[0,j,k] for j in range(1,NCIUDADES))==1)\n",
        "    for j in range(1,NCIUDADES):\n",
        "      solver.Add(F[j,0,k]==0)\n",
        "    solver.Add(solver.Sum(F[0,j,k] for j in range(NCIUDADES) if j!=k)==1)\n",
        "    for j in range(1,NCIUDADES):\n",
        "      if j!=k:\n",
        "        solver.Add(F[k,j,k]==0)    \n",
        "    for i in range(1,NCIUDADES):\n",
        "      if i!=k:\n",
        "        solver.Add(solver.Sum(F[j,i,k]-F[i,j,k] for j in range(NCIUDADES) if j!=i)==0)\n",
        "    for i in range(NCIUDADES):\n",
        "      for j in range (NCIUDADES):\n",
        "        if i!=j:\n",
        "          solver.Add(F[i,j,k]<=assig[i,j])\n",
        "    \n",
        "    \n",
        "    \n",
        "  sol = solver.Solve()\n",
        "  print('Distancia total de la ruta = ', solver.Objective().Value(),'Kilometros')\n",
        "  print('Ruta de mínima distancia:')\n",
        "  for i in range(NCIUDADES):\n",
        "    for j in range(NCIUDADES):\n",
        "      if assig[i,j].solution_value() > 0:\n",
        "         print('De la ciudad %d a la ciudad %d.  Distancia = %d Km '  % (i,j,DIST[i][j]))\n",
        "         \n",
        "        "
      ],
      "execution_count": null,
      "outputs": [
        {
          "output_type": "stream",
          "text": [
            "TPS para 20 ciudades:\n",
            "Distancia total de la ruta =  185.0 Kilometros\n",
            "Ruta de mínima distancia:\n",
            "De la ciudad 0 a la ciudad 14.  Distancia = 8 Km \n",
            "De la ciudad 1 a la ciudad 9.  Distancia = 2 Km \n",
            "De la ciudad 2 a la ciudad 12.  Distancia = 5 Km \n",
            "De la ciudad 3 a la ciudad 1.  Distancia = 3 Km \n",
            "De la ciudad 4 a la ciudad 8.  Distancia = 17 Km \n",
            "De la ciudad 5 a la ciudad 4.  Distancia = 2 Km \n",
            "De la ciudad 6 a la ciudad 3.  Distancia = 4 Km \n",
            "De la ciudad 7 a la ciudad 15.  Distancia = 10 Km \n",
            "De la ciudad 8 a la ciudad 7.  Distancia = 12 Km \n",
            "De la ciudad 9 a la ciudad 5.  Distancia = 17 Km \n",
            "De la ciudad 10 a la ciudad 16.  Distancia = 2 Km \n",
            "De la ciudad 11 a la ciudad 2.  Distancia = 3 Km \n",
            "De la ciudad 12 a la ciudad 10.  Distancia = 3 Km \n",
            "De la ciudad 13 a la ciudad 6.  Distancia = 4 Km \n",
            "De la ciudad 14 a la ciudad 19.  Distancia = 9 Km \n",
            "De la ciudad 15 a la ciudad 18.  Distancia = 2 Km \n",
            "De la ciudad 16 a la ciudad 13.  Distancia = 13 Km \n",
            "De la ciudad 17 a la ciudad 0.  Distancia = 26 Km \n",
            "De la ciudad 18 a la ciudad 17.  Distancia = 16 Km \n",
            "De la ciudad 19 a la ciudad 11.  Distancia = 27 Km \n"
          ],
          "name": "stdout"
        }
      ]
    }
  ]
}