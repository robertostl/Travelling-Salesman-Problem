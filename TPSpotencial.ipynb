{
  "nbformat": 4,
  "nbformat_minor": 0,
  "metadata": {
    "colab": {
      "provenance": [],
      "collapsed_sections": [],
      "include_colab_link": true
    },
    "kernelspec": {
      "name": "python3",
      "display_name": "Python 3"
    }
  },
  "cells": [
    {
      "cell_type": "markdown",
      "metadata": {
        "id": "view-in-github",
        "colab_type": "text"
      },
      "source": [
        "<a href=\"https://colab.research.google.com/github/robertostl/Travelling-Salesman-Problem/blob/main/TPSpotencial.ipynb\" target=\"_parent\"><img src=\"https://colab.research.google.com/assets/colab-badge.svg\" alt=\"Open In Colab\"/></a>"
      ]
    },
    {
      "cell_type": "markdown",
      "source": [
        "Installing ortools for solving linear programming (LP) problems"
      ],
      "metadata": {
        "id": "ngWTr2sYNEDi"
      }
    },
    {
      "metadata": {
        "id": "DF-dTeKXpDdo"
      },
      "cell_type": "code",
      "source": [
        "!pip install ortools\n",
        "from ortools.linear_solver import pywraplp\n",
        "solver = pywraplp.Solver('TPSpotencial',\n",
        "                           pywraplp.Solver.CBC_MIXED_INTEGER_PROGRAMMING)"
      ],
      "execution_count": null,
      "outputs": []
    },
    {
      "metadata": {
        "id": "tZap8eWHlbBl"
      },
      "cell_type": "code",
      "source": [
        "#declaracion (el grafo es asímetrico y la distancia de una ciudad a ella misma es 0)\n",
        "import random\n",
        "NCIUDADES = 5\n",
        "DIST = [[random.randint(1,101) for i in range(NCIUDADES)] for j in range(NCIUDADES)]\n",
        "for i in range(NCIUDADES):\n",
        "  for j in range(NCIUDADES):\n",
        "    if i==j:\n",
        "      DIST[i][j]=0     "
      ],
      "execution_count": null,
      "outputs": []
    },
    {
      "metadata": {
        "id": "SdX_ktQFotAW",
        "outputId": "d04e6067-13e4-42cf-8546-dc58a2a6234c",
        "colab": {
          "base_uri": "https://localhost:8080/",
          "height": 153
        }
      },
      "cell_type": "code",
      "source": [
        " #modelo\n",
        "  print('TPS para %d ciudades:' %NCIUDADES)\n",
        "  assig = {}\n",
        "  for i in range(NCIUDADES):\n",
        "    for j in range(NCIUDADES):  \n",
        "      assig[i,j] = solver.BoolVar('assig[%i,%i]' % (i,j))\n",
        "  level= {}\n",
        "  for i in range(NCIUDADES):\n",
        "    level[i]=solver.IntVar(0.0, solver.infinity(), 'level[%i]' % i)\n",
        "\n",
        "\n",
        "  solver.Minimize(solver.Sum([DIST[i][j]*assig[i,j] for i in range(NCIUDADES) for j in range(NCIUDADES)]))\n",
        "    \n",
        "  for i in range(NCIUDADES):\n",
        "    solver.Add(solver.Sum(assig[i,j] for j in range(NCIUDADES) if i!=j)== 1) \n",
        "  for i in range(NCIUDADES):\n",
        "    solver.Add(solver.Sum(assig[j,i] for j in range(NCIUDADES) if i!=j)== 1) \n",
        "  for i in range(1,NCIUDADES):\n",
        "    for j in range(1,NCIUDADES):\n",
        "      if i!=j:\n",
        "        solver.Add(level[j] >= level[i] + assig[i,j] - (NCIUDADES-1) * ( 1-assig[i,j] ) + (NCIUDADES-2)*assig[j,i])\n",
        "  sol = solver.Solve()\n",
        "  print('Distancia total de la ruta = ', solver.Objective().Value(),'Kilometros')\n",
        "  print('Ruta de mínima distancia:')\n",
        "  for i in range(NCIUDADES):\n",
        "    for j in range(NCIUDADES):\n",
        "      if assig[i,j].solution_value() > 0:\n",
        "         print('De la ciudad %d a la ciudad %d.  Distancia = %d Km'  % (i,j,DIST[i][j]))"
      ],
      "execution_count": null,
      "outputs": [
        {
          "output_type": "stream",
          "text": [
            "TPS para 5 ciudades:\n",
            "Distancia total de la ruta =  160.0 Kilometros\n",
            "Ruta de mínima distancia:\n",
            "De la ciudad 0 a la ciudad 3.  Distancia = 74 Km\n",
            "De la ciudad 1 a la ciudad 4.  Distancia = 1 Km\n",
            "De la ciudad 2 a la ciudad 0.  Distancia = 2 Km\n",
            "De la ciudad 3 a la ciudad 1.  Distancia = 20 Km\n",
            "De la ciudad 4 a la ciudad 2.  Distancia = 63 Km\n"
          ],
          "name": "stdout"
        }
      ]
    }
  ]
}