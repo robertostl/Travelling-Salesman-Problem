{
  "nbformat": 4,
  "nbformat_minor": 0,
  "metadata": {
    "colab": {
      "provenance": [],
      "collapsed_sections": [],
      "include_colab_link": true
    },
    "kernelspec": {
      "name": "python3",
      "display_name": "Python 3"
    }
  },
  "cells": [
    {
      "cell_type": "markdown",
      "metadata": {
        "id": "view-in-github",
        "colab_type": "text"
      },
      "source": [
        "<a href=\"https://colab.research.google.com/github/robertostl/Travelling-Salesman-Problem/blob/main/TSPprecedence.ipynb\" target=\"_parent\"><img src=\"https://colab.research.google.com/assets/colab-badge.svg\" alt=\"Open In Colab\"/></a>"
      ]
    },
    {
      "metadata": {
        "id": "4CCEcDeD3q9u",
        "outputId": "7937df70-52b0-40c1-9ca2-ca4a572873eb",
        "colab": {
          "base_uri": "https://localhost:8080/",
          "height": 85
        }
      },
      "cell_type": "code",
      "source": [
        "!pip install ortools\n",
        "from ortools.linear_solver import pywraplp\n",
        "solver = pywraplp.Solver('TPSprecedencia',\n",
        "                           pywraplp.Solver.CBC_MIXED_INTEGER_PROGRAMMING)"
      ],
      "execution_count": null,
      "outputs": [
        {
          "output_type": "stream",
          "text": [
            "Requirement already satisfied: ortools in /usr/local/lib/python3.6/dist-packages (6.9.5824)\n",
            "Requirement already satisfied: protobuf>=3.6.1 in /usr/local/lib/python3.6/dist-packages (from ortools) (3.6.1)\n",
            "Requirement already satisfied: six>=1.10 in /usr/local/lib/python3.6/dist-packages (from ortools) (1.11.0)\n",
            "Requirement already satisfied: setuptools in /usr/local/lib/python3.6/dist-packages (from protobuf>=3.6.1->ortools) (40.6.2)\n"
          ],
          "name": "stdout"
        }
      ]
    },
    {
      "metadata": {
        "id": "zuTfPtJI3rwA"
      },
      "cell_type": "code",
      "source": [
        "#declaracion (el grafo es asímetrico y  la distancia de una ciudad a ella misma es 0)\n",
        "import random\n",
        "NCIUDADES = 15\n",
        "DIST = [[random.randint(1,101) for i in range(NCIUDADES)] for j in range(NCIUDADES)]\n",
        "for i in range(NCIUDADES):\n",
        "  for j in range(NCIUDADES):\n",
        "    if i==j:\n",
        "      DIST[i][j]=0     "
      ],
      "execution_count": null,
      "outputs": []
    },
    {
      "metadata": {
        "id": "FBLmIQdx3ry0",
        "outputId": "7abd75a1-9af0-4547-ac50-957f1b648ade",
        "colab": {
          "base_uri": "https://localhost:8080/",
          "height": 323
        }
      },
      "cell_type": "code",
      "source": [
        " #modelo\n",
        "  print('TPS para %d ciudades:' %NCIUDADES)\n",
        "  assig = {}\n",
        "  for i in range(NCIUDADES):\n",
        "    for j in range(NCIUDADES):  \n",
        "      assig[i,j] = solver.BoolVar('assig[%i,%i]' % (i,j))\n",
        "  preced = {}\n",
        "  for i in range(NCIUDADES):\n",
        "    for j in range(NCIUDADES):  \n",
        "      preced[i,j] = solver.BoolVar('preced[%i,%i]' % (i,j))\n",
        "\n",
        "\n",
        "  solver.Minimize(solver.Sum([DIST[i][j]*assig[i,j] for i in range(NCIUDADES) for j in range(NCIUDADES)]))\n",
        "    \n",
        "  for i in range(NCIUDADES):\n",
        "    solver.Add(solver.Sum(assig[i,j] for j in range(NCIUDADES) if i!=j)== 1) \n",
        "  for i in range(NCIUDADES):\n",
        "    solver.Add(solver.Sum(assig[j,i] for j in range(NCIUDADES) if i!=j)== 1) \n",
        " \n",
        "\n",
        "\n",
        "  for i in range(1,NCIUDADES):\n",
        "    for j in range(1,NCIUDADES):\n",
        "      if i!=j:\n",
        "        solver.Add(preced[i,j]+preced[j,i]==1)\n",
        "        solver.Add(assig[i,j]<=preced[i,j])\n",
        "        for k in range(1,NCIUDADES):\n",
        "          if k!=i and k!=j:\n",
        "            solver.Add(preced[i,j]+preced[j,k]<=1+preced[i,k])\n",
        "\n",
        "  sol = solver.Solve()\n",
        "  print('Distancia total de la ruta = ', solver.Objective().Value(),'Kilometros')\n",
        "  print('Ruta de mínima distancia:')\n",
        "  for i in range(NCIUDADES):\n",
        "    for j in range(NCIUDADES):\n",
        "      if assig[i,j].solution_value() > 0:\n",
        "         print('De la ciudad %d a la ciudad %d.  Distancia = %d Km'  % (i,j,DIST[i][j]))  "
      ],
      "execution_count": null,
      "outputs": [
        {
          "output_type": "stream",
          "text": [
            "TPS para 15 ciudades:\n",
            "Distancia total de la ruta =  191.0 Kilometros\n",
            "Ruta de mínima distancia:\n",
            "De la ciudad 0 a la ciudad 14.  Distancia = 8 Km\n",
            "De la ciudad 1 a la ciudad 5.  Distancia = 4 Km\n",
            "De la ciudad 2 a la ciudad 10.  Distancia = 7 Km\n",
            "De la ciudad 3 a la ciudad 6.  Distancia = 50 Km\n",
            "De la ciudad 4 a la ciudad 8.  Distancia = 5 Km\n",
            "De la ciudad 5 a la ciudad 12.  Distancia = 6 Km\n",
            "De la ciudad 6 a la ciudad 1.  Distancia = 7 Km\n",
            "De la ciudad 7 a la ciudad 0.  Distancia = 18 Km\n",
            "De la ciudad 8 a la ciudad 11.  Distancia = 26 Km\n",
            "De la ciudad 9 a la ciudad 13.  Distancia = 10 Km\n",
            "De la ciudad 10 a la ciudad 3.  Distancia = 11 Km\n",
            "De la ciudad 11 a la ciudad 9.  Distancia = 7 Km\n",
            "De la ciudad 12 a la ciudad 7.  Distancia = 20 Km\n",
            "De la ciudad 13 a la ciudad 2.  Distancia = 11 Km\n",
            "De la ciudad 14 a la ciudad 4.  Distancia = 1 Km\n"
          ],
          "name": "stdout"
        }
      ]
    }
  ]
}